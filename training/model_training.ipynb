{
 "cells": [
  {
   "cell_type": "code",
   "execution_count": 4,
   "metadata": {},
   "outputs": [
    {
     "name": "stdout",
     "output_type": "stream",
     "text": [
      "\n",
      "=== RandomForest ===\n",
      "Primary Features (Heart_Rate, Body_Temp, Duration):\n",
      "Training Error: 6.59\n",
      "Validation Error: 9.06\n",
      "Extended Features (Heart_Rate, Body_Temp, Duration, BMI, Gender, Age):\n",
      "Training Error: 0.93\n",
      "Validation Error: 2.37\n",
      "\n",
      "=== GradientBoosting ===\n",
      "Primary Features (Heart_Rate, Body_Temp, Duration):\n",
      "Training Error: 8.17\n",
      "Validation Error: 8.33\n",
      "Extended Features (Heart_Rate, Body_Temp, Duration, BMI, Gender, Age):\n",
      "Training Error: 3.06\n",
      "Validation Error: 3.18\n",
      "\n",
      "=== XGBoost ===\n",
      "Primary Features (Heart_Rate, Body_Temp, Duration):\n",
      "Training Error: 7.84\n",
      "Validation Error: 8.17\n",
      "Extended Features (Heart_Rate, Body_Temp, Duration, BMI, Gender, Age):\n",
      "Training Error: 2.02\n",
      "Validation Error: 2.50\n",
      "\n",
      "=== LightGBM ===\n",
      "Primary Features (Heart_Rate, Body_Temp, Duration):\n",
      "[LightGBM] [Info] Auto-choosing row-wise multi-threading, the overhead of testing was 0.000037 seconds.\n",
      "You can set `force_row_wise=true` to remove the overhead.\n",
      "And if memory is not enough, you can set `force_col_wise=true`.\n",
      "[LightGBM] [Info] Total Bins 133\n",
      "[LightGBM] [Info] Number of data points in the train set: 13500, number of used features: 3\n",
      "[LightGBM] [Info] Start training from score 79.000000\n",
      "Training Error: 7.85\n",
      "Validation Error: 8.06\n",
      "Extended Features (Heart_Rate, Body_Temp, Duration, BMI, Gender, Age):\n",
      "[LightGBM] [Info] Auto-choosing col-wise multi-threading, the overhead of testing was 0.000178 seconds.\n",
      "You can set `force_col_wise=true` to remove the overhead.\n",
      "[LightGBM] [Info] Total Bins 452\n",
      "[LightGBM] [Info] Number of data points in the train set: 13500, number of used features: 6\n",
      "[LightGBM] [Info] Start training from score 79.000000\n",
      "Training Error: 2.14\n",
      "Validation Error: 2.37\n",
      "\n",
      "=== CatBoost ===\n",
      "Primary Features (Heart_Rate, Body_Temp, Duration):\n",
      "Training Error: 7.83\n",
      "Validation Error: 8.04\n",
      "Extended Features (Heart_Rate, Body_Temp, Duration, BMI, Gender, Age):\n",
      "Training Error: 1.85\n",
      "Validation Error: 1.92\n"
     ]
    }
   ],
   "source": [
    "import numpy as np\n",
    "import pandas as pd\n",
    "from sklearn.model_selection import train_test_split\n",
    "from sklearn.preprocessing import StandardScaler\n",
    "from sklearn.ensemble import RandomForestRegressor, GradientBoostingRegressor\n",
    "from sklearn.metrics import mean_absolute_error as mae\n",
    "import xgboost as xgb\n",
    "import lightgbm as lgb\n",
    "import catboost as cb\n",
    "import joblib\n",
    "import warnings\n",
    "warnings.filterwarnings('ignore')\n",
    "\n",
    "df = pd.read_csv('calories.csv')\n",
    "df.replace({'male': 0, 'female': 1}, inplace=True)\n",
    "\n",
    "df['BMI'] = df['Weight'] / ((df['Height'] / 100) ** 2)\n",
    "\n",
    "primary_features = ['Heart_Rate', 'Body_Temp', 'Duration']\n",
    "extended_features = ['Heart_Rate', 'Body_Temp', 'Duration', 'BMI', 'Gender', 'Age']\n",
    "\n",
    "target = df['Calories'].values\n",
    "\n",
    "X_primary = df[primary_features]\n",
    "X_train_p, X_val_p, Y_train_p, Y_val_p = train_test_split(X_primary, target, test_size=0.1, random_state=22)\n",
    "\n",
    "X_extended = df[extended_features]\n",
    "X_train_e, X_val_e, Y_train_e, Y_val_e = train_test_split(X_extended, target, test_size=0.1, random_state=22)\n",
    "\n",
    "scaler_primary = StandardScaler()\n",
    "X_train_p = scaler_primary.fit_transform(X_train_p)\n",
    "X_val_p = scaler_primary.transform(X_val_p)\n",
    "\n",
    "scaler_extended = StandardScaler()\n",
    "X_train_e = scaler_extended.fit_transform(X_train_e)\n",
    "X_val_e = scaler_extended.transform(X_val_e)\n",
    "\n",
    "models = {\n",
    "    'RandomForest': RandomForestRegressor(random_state=22),\n",
    "    'GradientBoosting': GradientBoostingRegressor(random_state=22),\n",
    "    'XGBoost': xgb.XGBRegressor(random_state=22, objective='reg:absoluteerror'),\n",
    "    'LightGBM': lgb.LGBMRegressor(random_state=22, objective='mae'),\n",
    "    'CatBoost': cb.CatBoostRegressor(random_state=22, loss_function='MAE', verbose=0)\n",
    "}\n",
    "\n",
    "for model_name, model in models.items():\n",
    "    print(f\"\\n=== {model_name} ===\")\n",
    "    \n",
    "    print(\"Primary Features (Heart_Rate, Body_Temp, Duration):\")\n",
    "    model.fit(X_train_p, Y_train_p)\n",
    "    train_preds_p = model.predict(X_train_p)\n",
    "    val_preds_p = model.predict(X_val_p)\n",
    "    print(f\"Training Error: {mae(Y_train_p, train_preds_p):.2f}\")\n",
    "    print(f\"Validation Error: {mae(Y_val_p, val_preds_p):.2f}\")\n",
    "    \n",
    "    print(\"Extended Features (Heart_Rate, Body_Temp, Duration, BMI, Gender, Age):\")\n",
    "    model.fit(X_train_e, Y_train_e)\n",
    "    train_preds_e = model.predict(X_train_e)\n",
    "    val_preds_e = model.predict(X_val_e)\n",
    "    print(f\"Training Error: {mae(Y_train_e, train_preds_e):.2f}\")\n",
    "    print(f\"Validation Error: {mae(Y_val_e, val_preds_e):.2f}\")\n",
    "\n"
   ]
  },
  {
   "cell_type": "code",
   "execution_count": 6,
   "metadata": {},
   "outputs": [
    {
     "data": {
      "text/plain": [
       "['scaler.pkl']"
      ]
     },
     "execution_count": 6,
     "metadata": {},
     "output_type": "execute_result"
    }
   ],
   "source": [
    "best_model = models['CatBoost']\n",
    "best_model.fit(X_train_e, Y_train_e)\n",
    "joblib.dump(best_model, 'catboost_model.pkl')\n",
    "joblib.dump(scaler_extended, 'scaler.pkl')"
   ]
  },
  {
   "cell_type": "code",
   "execution_count": 16,
   "metadata": {},
   "outputs": [
    {
     "name": "stdout",
     "output_type": "stream",
     "text": [
      "{'prediction': 63.52}\n"
     ]
    }
   ],
   "source": [
    "import requests\n",
    "\n",
    "data = {\"Gender\": 1, \"Age\": 29.0, \"Height\": 189.0, \"Heart_Rate\": 100.0, \"Body_Temp\": 39.8}\n",
    "response = requests.post(\"http://127.0.0.1:8000/\", json=data)\n",
    "print(response.json())"
   ]
  }
 ],
 "metadata": {
  "kernelspec": {
   "display_name": "Cals_burnt",
   "language": "python",
   "name": "python3"
  },
  "language_info": {
   "codemirror_mode": {
    "name": "ipython",
    "version": 3
   },
   "file_extension": ".py",
   "mimetype": "text/x-python",
   "name": "python",
   "nbconvert_exporter": "python",
   "pygments_lexer": "ipython3",
   "version": "3.11.11"
  }
 },
 "nbformat": 4,
 "nbformat_minor": 2
}
