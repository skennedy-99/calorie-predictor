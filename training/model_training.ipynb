{
 "cells": [
  {
   "cell_type": "code",
   "execution_count": null,
   "metadata": {},
   "outputs": [
    {
     "name": "stdout",
     "output_type": "stream",
     "text": [
      "RandomForestRegressor() : \n",
      "Training Error :  3.986754097482764\n",
      "Validation Error :  10.514452126984127\n"
     ]
    },
    {
     "data": {
      "text/plain": [
       "['scaler.pkl']"
      ]
     },
     "execution_count": 1,
     "metadata": {},
     "output_type": "execute_result"
    }
   ],
   "source": [
    "import numpy as np\n",
    "import pandas as pd\n",
    "from sklearn.model_selection import train_test_split\n",
    "from sklearn.preprocessing import StandardScaler\n",
    "from sklearn.ensemble import RandomForestRegressor\n",
    "from sklearn.metrics import mean_absolute_error as mae\n",
    "import joblib\n",
    "import warnings\n",
    "warnings.filterwarnings('ignore')\n",
    "\n",
    "df = pd.read_csv('calories.csv')\n",
    "df.replace({'male': 0, 'female': 1}, inplace=True)\n",
    "to_remove = ['Weight', 'Duration']\n",
    "df.drop(to_remove, axis=1, inplace=True)\n",
    "\n",
    "features = df.drop(['User_ID', 'Calories'], axis=1)\n",
    "target = df['Calories'].values\n",
    "X_train, X_val, Y_train, Y_val = train_test_split(features, target, test_size=0.1, random_state=22)\n",
    "\n",
    "scaler = StandardScaler()\n",
    "X_train = scaler.fit_transform(X_train)\n",
    "X_val = scaler.transform(X_val)\n",
    "\n",
    "\n",
    "model = RandomForestRegressor()\n",
    "model.fit(X_train, Y_train)\n",
    "\n",
    "print(f'{model} : ')\n",
    "train_preds = model.predict(X_train)\n",
    "print('Training Error : ', mae(Y_train, train_preds))\n",
    "val_preds = model.predict(X_val)\n",
    "print('Validation Error : ', mae(Y_val, val_preds))\n",
    "\n",
    "\n",
    "\n",
    "joblib.dump(model, 'random_forest_model.pkl')\n",
    "\n",
    "joblib.dump(scaler, 'scaler.pkl')\n",
    "\n"
   ]
  },
  {
   "cell_type": "code",
   "execution_count": 16,
   "metadata": {},
   "outputs": [
    {
     "name": "stdout",
     "output_type": "stream",
     "text": [
      "{'prediction': 63.52}\n"
     ]
    }
   ],
   "source": [
    "import requests\n",
    "\n",
    "data = {\"Gender\": 1, \"Age\": 29.0, \"Height\": 189.0, \"Heart_Rate\": 100.0, \"Body_Temp\": 39.8}\n",
    "response = requests.post(\"http://127.0.0.1:8000/\", json=data)\n",
    "print(response.json())"
   ]
  }
 ],
 "metadata": {
  "kernelspec": {
   "display_name": "Cals_burnt",
   "language": "python",
   "name": "python3"
  },
  "language_info": {
   "codemirror_mode": {
    "name": "ipython",
    "version": 3
   },
   "file_extension": ".py",
   "mimetype": "text/x-python",
   "name": "python",
   "nbconvert_exporter": "python",
   "pygments_lexer": "ipython3",
   "version": "3.11.11"
  }
 },
 "nbformat": 4,
 "nbformat_minor": 2
}
